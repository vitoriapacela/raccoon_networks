{
 "cells": [
  {
   "cell_type": "markdown",
   "metadata": {},
   "source": [
    "# Clustering\n",
    "\n",
    "To do:\n",
    "- filter raccoons and get 0-15\n",
    "- apply K-means with silhouette index\n",
    "- use weight as the metric\n",
    "- sklearn: https://scikit-learn.org/stable/modules/generated/sklearn.metrics.silhouette_score.html\n"
   ]
  },
  {
   "cell_type": "code",
   "execution_count": 1,
   "metadata": {},
   "outputs": [],
   "source": [
    "import glob\n",
    "\n",
    "import numpy as np\n",
    "\n",
    "import networkx as nx\n",
    "\n",
    "f_name = '../../raccoon_data/weighted_raccoon_matrix_46.graphml'"
   ]
  },
  {
   "cell_type": "code",
   "execution_count": null,
   "metadata": {},
   "outputs": [],
   "source": [
    "dir_name = '../../raccoon_data/weighted_raccoon_matrix_*.graphml'\n",
    "all_files = glob.glob(dir_name)"
   ]
  },
  {
   "cell_type": "code",
   "execution_count": 2,
   "metadata": {},
   "outputs": [],
   "source": [
    "# Filtering: remove edges > 15\n",
    "g = nx.read_graphml(f_name)\n",
    "remove = [node for node in g.nodes if int(node) > 15]\n",
    "g.remove_nodes_from(remove)"
   ]
  },
  {
   "cell_type": "code",
   "execution_count": 3,
   "metadata": {},
   "outputs": [],
   "source": [
    "# interaction time\n",
    "dist = np.array([g.edges[key]['weight'] for key in g.edges.keys() ])"
   ]
  },
  {
   "cell_type": "code",
   "execution_count": 4,
   "metadata": {},
   "outputs": [],
   "source": [
    "from sklearn.cluster import KMeans\n",
    "from sklearn.metrics import silhouette_score"
   ]
  },
  {
   "cell_type": "code",
   "execution_count": 54,
   "metadata": {},
   "outputs": [
    {
     "name": "stdout",
     "output_type": "stream",
     "text": [
      "[   115    916    271     34    599     56   1563      4   6520    899\n",
      "    624    589      6    207    520     24     37      6     42 155841]\n"
     ]
    }
   ],
   "source": [
    "# Just check interaction values\n",
    "print( np.array([ g.edges[key]['weight'] for key in g.edges.keys() ]))"
   ]
  },
  {
   "cell_type": "code",
   "execution_count": null,
   "metadata": {},
   "outputs": [],
   "source": [
    "## To do: 1/(1+log(interaction))\n",
    "A = nx.to_numpy_matrix(g)"
   ]
  },
  {
   "cell_type": "code",
   "execution_count": 46,
   "metadata": {},
   "outputs": [
    {
     "data": {
      "text/plain": [
       "matrix([[0.00000e+00, 0.00000e+00, 1.15000e+02, 9.16000e+02, 0.00000e+00,\n",
       "         2.71000e+02, 3.40000e+01, 5.99000e+02, 5.60000e+01, 0.00000e+00,\n",
       "         0.00000e+00],\n",
       "        [0.00000e+00, 0.00000e+00, 1.56300e+03, 0.00000e+00, 0.00000e+00,\n",
       "         0.00000e+00, 0.00000e+00, 0.00000e+00, 6.52000e+03, 4.00000e+00,\n",
       "         8.99000e+02],\n",
       "        [1.15000e+02, 1.56300e+03, 0.00000e+00, 0.00000e+00, 6.24000e+02,\n",
       "         0.00000e+00, 0.00000e+00, 0.00000e+00, 5.89000e+02, 6.00000e+00,\n",
       "         2.07000e+02],\n",
       "        [9.16000e+02, 0.00000e+00, 0.00000e+00, 0.00000e+00, 0.00000e+00,\n",
       "         0.00000e+00, 0.00000e+00, 5.20000e+02, 0.00000e+00, 0.00000e+00,\n",
       "         2.40000e+01],\n",
       "        [0.00000e+00, 0.00000e+00, 6.24000e+02, 0.00000e+00, 0.00000e+00,\n",
       "         0.00000e+00, 0.00000e+00, 0.00000e+00, 0.00000e+00, 0.00000e+00,\n",
       "         0.00000e+00],\n",
       "        [2.71000e+02, 0.00000e+00, 0.00000e+00, 0.00000e+00, 0.00000e+00,\n",
       "         0.00000e+00, 0.00000e+00, 3.70000e+01, 0.00000e+00, 0.00000e+00,\n",
       "         0.00000e+00],\n",
       "        [3.40000e+01, 0.00000e+00, 0.00000e+00, 0.00000e+00, 0.00000e+00,\n",
       "         0.00000e+00, 0.00000e+00, 6.00000e+00, 0.00000e+00, 0.00000e+00,\n",
       "         0.00000e+00],\n",
       "        [5.99000e+02, 0.00000e+00, 0.00000e+00, 5.20000e+02, 0.00000e+00,\n",
       "         3.70000e+01, 6.00000e+00, 0.00000e+00, 0.00000e+00, 0.00000e+00,\n",
       "         0.00000e+00],\n",
       "        [5.60000e+01, 6.52000e+03, 5.89000e+02, 0.00000e+00, 0.00000e+00,\n",
       "         0.00000e+00, 0.00000e+00, 0.00000e+00, 0.00000e+00, 4.20000e+01,\n",
       "         1.55841e+05],\n",
       "        [0.00000e+00, 4.00000e+00, 6.00000e+00, 0.00000e+00, 0.00000e+00,\n",
       "         0.00000e+00, 0.00000e+00, 0.00000e+00, 4.20000e+01, 0.00000e+00,\n",
       "         0.00000e+00],\n",
       "        [0.00000e+00, 8.99000e+02, 2.07000e+02, 2.40000e+01, 0.00000e+00,\n",
       "         0.00000e+00, 0.00000e+00, 0.00000e+00, 1.55841e+05, 0.00000e+00,\n",
       "         0.00000e+00]])"
      ]
     },
     "execution_count": 46,
     "metadata": {},
     "output_type": "execute_result"
    }
   ],
   "source": [
    "A"
   ]
  },
  {
   "cell_type": "code",
   "execution_count": 55,
   "metadata": {},
   "outputs": [
    {
     "name": "stderr",
     "output_type": "stream",
     "text": [
      "<ipython-input-55-a48e41db9660>:1: RuntimeWarning: divide by zero encountered in log\n",
      "  X = 1/(1+np.log(A))\n"
     ]
    }
   ],
   "source": [
    "X = 1/(1+np.log(A))"
   ]
  },
  {
   "cell_type": "code",
   "execution_count": 64,
   "metadata": {},
   "outputs": [],
   "source": [
    "kmeans_model = KMeans(n_clusters=3, random_state=1, precompute_distances=True).fit(X)\n",
    "labels = kmeans_model.labels_"
   ]
  },
  {
   "cell_type": "code",
   "execution_count": 65,
   "metadata": {},
   "outputs": [
    {
     "data": {
      "text/plain": [
       "-0.2065319661114245"
      ]
     },
     "execution_count": 65,
     "metadata": {},
     "output_type": "execute_result"
    }
   ],
   "source": [
    "# Check if a big value has the effect expected!!!\n",
    "silhouette_score(X, labels, metric=\"precomputed\")"
   ]
  },
  {
   "cell_type": "code",
   "execution_count": null,
   "metadata": {},
   "outputs": [],
   "source": [
    "# The best value is 1 and the worst value is -1. Values near 0 indicate overlapping clusters."
   ]
  },
  {
   "cell_type": "code",
   "execution_count": 66,
   "metadata": {},
   "outputs": [],
   "source": [
    "kmeans_model = KMeans(n_clusters=5, random_state=1).fit(X)\n",
    "labels = kmeans_model.labels_"
   ]
  },
  {
   "cell_type": "code",
   "execution_count": 67,
   "metadata": {},
   "outputs": [
    {
     "data": {
      "text/plain": [
       "-0.45454545454545453"
      ]
     },
     "execution_count": 67,
     "metadata": {},
     "output_type": "execute_result"
    }
   ],
   "source": [
    "silhouette_score(X, labels, metric=\"precomputed\")"
   ]
  },
  {
   "cell_type": "code",
   "execution_count": null,
   "metadata": {},
   "outputs": [],
   "source": [
    "prev = silhouette_score(X, labels, metric=\"precomputed\")\n",
    "clusters = 3\n",
    "while True:\n",
    "    if (cur > prev):\n",
    "        clusters += 1\n",
    "        kmeans_model = KMeans(n_clusters=clusters, random_state=1, precompute_distances=True).fit(X)\n",
    "        labels = kmeans_model.labels_\n",
    "\n",
    "        prev = cur\n",
    "        cur = silhouette_score(X, labels, metric=\"precomputed\")\n",
    "        \n",
    "    if "
   ]
  }
 ],
 "metadata": {
  "kernelspec": {
   "display_name": "Python 3",
   "language": "python",
   "name": "python3"
  },
  "language_info": {
   "codemirror_mode": {
    "name": "ipython",
    "version": 3
   },
   "file_extension": ".py",
   "mimetype": "text/x-python",
   "name": "python",
   "nbconvert_exporter": "python",
   "pygments_lexer": "ipython3",
   "version": "3.8.1"
  }
 },
 "nbformat": 4,
 "nbformat_minor": 4
}
